{
 "cells": [
  {
   "cell_type": "code",
   "execution_count": 1,
   "metadata": {
    "colab": {
     "base_uri": "https://localhost:8080/",
     "height": 35
    },
    "colab_type": "code",
    "id": "auu8l_7NkDMF",
    "outputId": "121852eb-26db-4578-9d74-d13e6067a22c"
   },
   "outputs": [],
   "source": [
    "import os, pandas as pd, numpy as np, tensorflow as tf, keras, matplotlib.pyplot as plt"
   ]
  },
  {
   "cell_type": "code",
   "execution_count": 2,
   "metadata": {
    "colab": {},
    "colab_type": "code",
    "id": "unXKlfgzLAeV"
   },
   "outputs": [],
   "source": [
    "from random import random, seed, gauss"
   ]
  },
  {
   "cell_type": "code",
   "execution_count": 3,
   "metadata": {
    "colab": {
     "base_uri": "https://localhost:8080/",
     "height": 71
    },
    "colab_type": "code",
    "id": "-mY0G06HJAZr",
    "outputId": "43cfe446-5126-4b88-9a33-51f4f1052de0"
   },
   "outputs": [
    {
     "name": "stdout",
     "output_type": "stream",
     "text": [
      "1.0.5\n",
      "1.18.1\n",
      "2.2.0\n"
     ]
    }
   ],
   "source": [
    "print(pd.__version__)\n",
    "print(np.__version__)\n",
    "print(tf.__version__)"
   ]
  },
  {
   "cell_type": "code",
   "execution_count": 4,
   "metadata": {
    "colab": {},
    "colab_type": "code",
    "id": "yigFS3DoJZwI"
   },
   "outputs": [],
   "source": [
    "mydates1 = pd.date_range(start='1/1/2018', end='1/12/2020', freq='MS')\n",
    "n_mydates1 = len(mydates1)"
   ]
  },
  {
   "cell_type": "code",
   "execution_count": 5,
   "metadata": {
    "colab": {},
    "colab_type": "code",
    "id": "_yoBUgH40E8M"
   },
   "outputs": [],
   "source": [
    "df = pd.DataFrame()"
   ]
  },
  {
   "cell_type": "code",
   "execution_count": 6,
   "metadata": {
    "colab": {
     "base_uri": "https://localhost:8080/",
     "height": 197
    },
    "colab_type": "code",
    "id": "1HYDrvzpKiz1",
    "outputId": "1a98c2b3-6521-4ed6-a31d-ae138a58cd58"
   },
   "outputs": [
    {
     "name": "stdout",
     "output_type": "stream",
     "text": [
      "[0.24238269 0.37502987 0.13759126 0.10782981 0.6974383  0.53533206\n",
      " 0.06215357 0.72084242 0.83083935 0.39611145 0.92657206 0.74982345\n",
      " 0.23953399 0.57862229 0.59934666 0.48536894 0.17873786 0.62101\n",
      " 0.93465926 0.50401081 0.54131792 0.01255943 0.39353655 0.4909465\n",
      " 0.63745723]\n",
      "[0.758472   0.11954419 0.57782091 0.59931254 0.55241988 0.65263555\n",
      " 0.05886852 0.98793513 0.25693762 0.35143332 0.6878048  0.70410894\n",
      " 0.22130148 0.73887268 0.4335246  0.73463816 0.6457864  0.63517738\n",
      " 0.20358215 0.50449645 0.47305174 0.63012993 0.92035299 0.15376516\n",
      " 0.03220702]\n"
     ]
    }
   ],
   "source": [
    "seed = 1\n",
    "rand1 = np.random.random((n_mydates1))\n",
    "seed = 1\n",
    "rand2 = np.random.random((n_mydates1))\n",
    "print(rand1)\n",
    "print(rand2)"
   ]
  },
  {
   "cell_type": "code",
   "execution_count": 7,
   "metadata": {
    "colab": {},
    "colab_type": "code",
    "id": "09zOqqrtLL9h"
   },
   "outputs": [],
   "source": [
    "r1minusr2 = rand1-rand2"
   ]
  },
  {
   "cell_type": "code",
   "execution_count": 8,
   "metadata": {
    "colab": {
     "base_uri": "https://localhost:8080/",
     "height": 107
    },
    "colab_type": "code",
    "id": "90PEBDx2MNnv",
    "outputId": "6379c88b-8978-4ef0-8aaa-c03c63019ded"
   },
   "outputs": [
    {
     "data": {
      "text/plain": [
       "array([-5.16089308e-01,  2.55485684e-01, -4.40229652e-01, -4.91482725e-01,\n",
       "        1.45018421e-01, -1.17303493e-01,  3.28504810e-03, -2.67092709e-01,\n",
       "        5.73901726e-01,  4.46781376e-02,  2.38767253e-01,  4.57145066e-02,\n",
       "        1.82325073e-02, -1.60250389e-01,  1.65822067e-01, -2.49269224e-01,\n",
       "       -4.67048540e-01, -1.41673845e-02,  7.31077104e-01, -4.85639954e-04,\n",
       "        6.82661879e-02, -6.17570504e-01, -5.26816442e-01,  3.37181345e-01,\n",
       "        6.05250205e-01])"
      ]
     },
     "execution_count": 8,
     "metadata": {},
     "output_type": "execute_result"
    }
   ],
   "source": [
    "r1minusr2"
   ]
  },
  {
   "cell_type": "code",
   "execution_count": 9,
   "metadata": {
    "colab": {},
    "colab_type": "code",
    "id": "1AcL5SL-MQ58"
   },
   "outputs": [],
   "source": [
    "list_of_tuples = list(zip(mydates1, rand1, rand2, r1minusr2)) "
   ]
  },
  {
   "cell_type": "code",
   "execution_count": 10,
   "metadata": {
    "colab": {},
    "colab_type": "code",
    "id": "j1RAV_NQJRsf"
   },
   "outputs": [],
   "source": [
    "df = pd.DataFrame(list_of_tuples, columns = ['Date', 'Rand1', 'Rand2', 'C2-C3'])"
   ]
  },
  {
   "cell_type": "code",
   "execution_count": 11,
   "metadata": {
    "colab": {
     "base_uri": "https://localhost:8080/",
     "height": 824
    },
    "colab_type": "code",
    "id": "CzcWUjkgJdnC",
    "outputId": "7f4d27e3-15f2-450d-9d2d-05817f2324d5"
   },
   "outputs": [
    {
     "data": {
      "text/html": [
       "<div>\n",
       "<style scoped>\n",
       "    .dataframe tbody tr th:only-of-type {\n",
       "        vertical-align: middle;\n",
       "    }\n",
       "\n",
       "    .dataframe tbody tr th {\n",
       "        vertical-align: top;\n",
       "    }\n",
       "\n",
       "    .dataframe thead th {\n",
       "        text-align: right;\n",
       "    }\n",
       "</style>\n",
       "<table border=\"1\" class=\"dataframe\">\n",
       "  <thead>\n",
       "    <tr style=\"text-align: right;\">\n",
       "      <th></th>\n",
       "      <th>Date</th>\n",
       "      <th>Rand1</th>\n",
       "      <th>Rand2</th>\n",
       "      <th>C2-C3</th>\n",
       "    </tr>\n",
       "  </thead>\n",
       "  <tbody>\n",
       "    <tr>\n",
       "      <th>0</th>\n",
       "      <td>2018-01-01</td>\n",
       "      <td>0.242383</td>\n",
       "      <td>0.758472</td>\n",
       "      <td>-0.516089</td>\n",
       "    </tr>\n",
       "    <tr>\n",
       "      <th>1</th>\n",
       "      <td>2018-02-01</td>\n",
       "      <td>0.375030</td>\n",
       "      <td>0.119544</td>\n",
       "      <td>0.255486</td>\n",
       "    </tr>\n",
       "    <tr>\n",
       "      <th>2</th>\n",
       "      <td>2018-03-01</td>\n",
       "      <td>0.137591</td>\n",
       "      <td>0.577821</td>\n",
       "      <td>-0.440230</td>\n",
       "    </tr>\n",
       "    <tr>\n",
       "      <th>3</th>\n",
       "      <td>2018-04-01</td>\n",
       "      <td>0.107830</td>\n",
       "      <td>0.599313</td>\n",
       "      <td>-0.491483</td>\n",
       "    </tr>\n",
       "    <tr>\n",
       "      <th>4</th>\n",
       "      <td>2018-05-01</td>\n",
       "      <td>0.697438</td>\n",
       "      <td>0.552420</td>\n",
       "      <td>0.145018</td>\n",
       "    </tr>\n",
       "    <tr>\n",
       "      <th>5</th>\n",
       "      <td>2018-06-01</td>\n",
       "      <td>0.535332</td>\n",
       "      <td>0.652636</td>\n",
       "      <td>-0.117303</td>\n",
       "    </tr>\n",
       "    <tr>\n",
       "      <th>6</th>\n",
       "      <td>2018-07-01</td>\n",
       "      <td>0.062154</td>\n",
       "      <td>0.058869</td>\n",
       "      <td>0.003285</td>\n",
       "    </tr>\n",
       "    <tr>\n",
       "      <th>7</th>\n",
       "      <td>2018-08-01</td>\n",
       "      <td>0.720842</td>\n",
       "      <td>0.987935</td>\n",
       "      <td>-0.267093</td>\n",
       "    </tr>\n",
       "    <tr>\n",
       "      <th>8</th>\n",
       "      <td>2018-09-01</td>\n",
       "      <td>0.830839</td>\n",
       "      <td>0.256938</td>\n",
       "      <td>0.573902</td>\n",
       "    </tr>\n",
       "    <tr>\n",
       "      <th>9</th>\n",
       "      <td>2018-10-01</td>\n",
       "      <td>0.396111</td>\n",
       "      <td>0.351433</td>\n",
       "      <td>0.044678</td>\n",
       "    </tr>\n",
       "    <tr>\n",
       "      <th>10</th>\n",
       "      <td>2018-11-01</td>\n",
       "      <td>0.926572</td>\n",
       "      <td>0.687805</td>\n",
       "      <td>0.238767</td>\n",
       "    </tr>\n",
       "    <tr>\n",
       "      <th>11</th>\n",
       "      <td>2018-12-01</td>\n",
       "      <td>0.749823</td>\n",
       "      <td>0.704109</td>\n",
       "      <td>0.045715</td>\n",
       "    </tr>\n",
       "    <tr>\n",
       "      <th>12</th>\n",
       "      <td>2019-01-01</td>\n",
       "      <td>0.239534</td>\n",
       "      <td>0.221301</td>\n",
       "      <td>0.018233</td>\n",
       "    </tr>\n",
       "    <tr>\n",
       "      <th>13</th>\n",
       "      <td>2019-02-01</td>\n",
       "      <td>0.578622</td>\n",
       "      <td>0.738873</td>\n",
       "      <td>-0.160250</td>\n",
       "    </tr>\n",
       "    <tr>\n",
       "      <th>14</th>\n",
       "      <td>2019-03-01</td>\n",
       "      <td>0.599347</td>\n",
       "      <td>0.433525</td>\n",
       "      <td>0.165822</td>\n",
       "    </tr>\n",
       "    <tr>\n",
       "      <th>15</th>\n",
       "      <td>2019-04-01</td>\n",
       "      <td>0.485369</td>\n",
       "      <td>0.734638</td>\n",
       "      <td>-0.249269</td>\n",
       "    </tr>\n",
       "    <tr>\n",
       "      <th>16</th>\n",
       "      <td>2019-05-01</td>\n",
       "      <td>0.178738</td>\n",
       "      <td>0.645786</td>\n",
       "      <td>-0.467049</td>\n",
       "    </tr>\n",
       "    <tr>\n",
       "      <th>17</th>\n",
       "      <td>2019-06-01</td>\n",
       "      <td>0.621010</td>\n",
       "      <td>0.635177</td>\n",
       "      <td>-0.014167</td>\n",
       "    </tr>\n",
       "    <tr>\n",
       "      <th>18</th>\n",
       "      <td>2019-07-01</td>\n",
       "      <td>0.934659</td>\n",
       "      <td>0.203582</td>\n",
       "      <td>0.731077</td>\n",
       "    </tr>\n",
       "    <tr>\n",
       "      <th>19</th>\n",
       "      <td>2019-08-01</td>\n",
       "      <td>0.504011</td>\n",
       "      <td>0.504496</td>\n",
       "      <td>-0.000486</td>\n",
       "    </tr>\n",
       "    <tr>\n",
       "      <th>20</th>\n",
       "      <td>2019-09-01</td>\n",
       "      <td>0.541318</td>\n",
       "      <td>0.473052</td>\n",
       "      <td>0.068266</td>\n",
       "    </tr>\n",
       "    <tr>\n",
       "      <th>21</th>\n",
       "      <td>2019-10-01</td>\n",
       "      <td>0.012559</td>\n",
       "      <td>0.630130</td>\n",
       "      <td>-0.617571</td>\n",
       "    </tr>\n",
       "    <tr>\n",
       "      <th>22</th>\n",
       "      <td>2019-11-01</td>\n",
       "      <td>0.393537</td>\n",
       "      <td>0.920353</td>\n",
       "      <td>-0.526816</td>\n",
       "    </tr>\n",
       "    <tr>\n",
       "      <th>23</th>\n",
       "      <td>2019-12-01</td>\n",
       "      <td>0.490947</td>\n",
       "      <td>0.153765</td>\n",
       "      <td>0.337181</td>\n",
       "    </tr>\n",
       "    <tr>\n",
       "      <th>24</th>\n",
       "      <td>2020-01-01</td>\n",
       "      <td>0.637457</td>\n",
       "      <td>0.032207</td>\n",
       "      <td>0.605250</td>\n",
       "    </tr>\n",
       "  </tbody>\n",
       "</table>\n",
       "</div>"
      ],
      "text/plain": [
       "         Date     Rand1     Rand2     C2-C3\n",
       "0  2018-01-01  0.242383  0.758472 -0.516089\n",
       "1  2018-02-01  0.375030  0.119544  0.255486\n",
       "2  2018-03-01  0.137591  0.577821 -0.440230\n",
       "3  2018-04-01  0.107830  0.599313 -0.491483\n",
       "4  2018-05-01  0.697438  0.552420  0.145018\n",
       "5  2018-06-01  0.535332  0.652636 -0.117303\n",
       "6  2018-07-01  0.062154  0.058869  0.003285\n",
       "7  2018-08-01  0.720842  0.987935 -0.267093\n",
       "8  2018-09-01  0.830839  0.256938  0.573902\n",
       "9  2018-10-01  0.396111  0.351433  0.044678\n",
       "10 2018-11-01  0.926572  0.687805  0.238767\n",
       "11 2018-12-01  0.749823  0.704109  0.045715\n",
       "12 2019-01-01  0.239534  0.221301  0.018233\n",
       "13 2019-02-01  0.578622  0.738873 -0.160250\n",
       "14 2019-03-01  0.599347  0.433525  0.165822\n",
       "15 2019-04-01  0.485369  0.734638 -0.249269\n",
       "16 2019-05-01  0.178738  0.645786 -0.467049\n",
       "17 2019-06-01  0.621010  0.635177 -0.014167\n",
       "18 2019-07-01  0.934659  0.203582  0.731077\n",
       "19 2019-08-01  0.504011  0.504496 -0.000486\n",
       "20 2019-09-01  0.541318  0.473052  0.068266\n",
       "21 2019-10-01  0.012559  0.630130 -0.617571\n",
       "22 2019-11-01  0.393537  0.920353 -0.526816\n",
       "23 2019-12-01  0.490947  0.153765  0.337181\n",
       "24 2020-01-01  0.637457  0.032207  0.605250"
      ]
     },
     "execution_count": 11,
     "metadata": {},
     "output_type": "execute_result"
    }
   ],
   "source": [
    "df"
   ]
  },
  {
   "cell_type": "code",
   "execution_count": 12,
   "metadata": {
    "colab": {},
    "colab_type": "code",
    "id": "C_o0ZgLsJeMx"
   },
   "outputs": [],
   "source": [
    "df2018 = pd.DataFrame(df.loc[df['Date'] < '2019-01-01'].values, columns = ['Date', 'Rand1', 'Rand2', 'C2-C3'])"
   ]
  },
  {
   "cell_type": "code",
   "execution_count": 13,
   "metadata": {
    "colab": {
     "base_uri": "https://localhost:8080/",
     "height": 421
    },
    "colab_type": "code",
    "id": "JGn9OmbfeS-Z",
    "outputId": "1a13132a-95bb-421e-a05f-fc2831602dfa"
   },
   "outputs": [
    {
     "data": {
      "text/html": [
       "<div>\n",
       "<style scoped>\n",
       "    .dataframe tbody tr th:only-of-type {\n",
       "        vertical-align: middle;\n",
       "    }\n",
       "\n",
       "    .dataframe tbody tr th {\n",
       "        vertical-align: top;\n",
       "    }\n",
       "\n",
       "    .dataframe thead th {\n",
       "        text-align: right;\n",
       "    }\n",
       "</style>\n",
       "<table border=\"1\" class=\"dataframe\">\n",
       "  <thead>\n",
       "    <tr style=\"text-align: right;\">\n",
       "      <th></th>\n",
       "      <th>Date</th>\n",
       "      <th>Rand1</th>\n",
       "      <th>Rand2</th>\n",
       "      <th>C2-C3</th>\n",
       "    </tr>\n",
       "  </thead>\n",
       "  <tbody>\n",
       "    <tr>\n",
       "      <th>0</th>\n",
       "      <td>2018-01-01</td>\n",
       "      <td>0.242383</td>\n",
       "      <td>0.758472</td>\n",
       "      <td>-0.516089</td>\n",
       "    </tr>\n",
       "    <tr>\n",
       "      <th>1</th>\n",
       "      <td>2018-02-01</td>\n",
       "      <td>0.37503</td>\n",
       "      <td>0.119544</td>\n",
       "      <td>0.255486</td>\n",
       "    </tr>\n",
       "    <tr>\n",
       "      <th>2</th>\n",
       "      <td>2018-03-01</td>\n",
       "      <td>0.137591</td>\n",
       "      <td>0.577821</td>\n",
       "      <td>-0.44023</td>\n",
       "    </tr>\n",
       "    <tr>\n",
       "      <th>3</th>\n",
       "      <td>2018-04-01</td>\n",
       "      <td>0.10783</td>\n",
       "      <td>0.599313</td>\n",
       "      <td>-0.491483</td>\n",
       "    </tr>\n",
       "    <tr>\n",
       "      <th>4</th>\n",
       "      <td>2018-05-01</td>\n",
       "      <td>0.697438</td>\n",
       "      <td>0.55242</td>\n",
       "      <td>0.145018</td>\n",
       "    </tr>\n",
       "    <tr>\n",
       "      <th>5</th>\n",
       "      <td>2018-06-01</td>\n",
       "      <td>0.535332</td>\n",
       "      <td>0.652636</td>\n",
       "      <td>-0.117303</td>\n",
       "    </tr>\n",
       "    <tr>\n",
       "      <th>6</th>\n",
       "      <td>2018-07-01</td>\n",
       "      <td>0.0621536</td>\n",
       "      <td>0.0588685</td>\n",
       "      <td>0.00328505</td>\n",
       "    </tr>\n",
       "    <tr>\n",
       "      <th>7</th>\n",
       "      <td>2018-08-01</td>\n",
       "      <td>0.720842</td>\n",
       "      <td>0.987935</td>\n",
       "      <td>-0.267093</td>\n",
       "    </tr>\n",
       "    <tr>\n",
       "      <th>8</th>\n",
       "      <td>2018-09-01</td>\n",
       "      <td>0.830839</td>\n",
       "      <td>0.256938</td>\n",
       "      <td>0.573902</td>\n",
       "    </tr>\n",
       "    <tr>\n",
       "      <th>9</th>\n",
       "      <td>2018-10-01</td>\n",
       "      <td>0.396111</td>\n",
       "      <td>0.351433</td>\n",
       "      <td>0.0446781</td>\n",
       "    </tr>\n",
       "    <tr>\n",
       "      <th>10</th>\n",
       "      <td>2018-11-01</td>\n",
       "      <td>0.926572</td>\n",
       "      <td>0.687805</td>\n",
       "      <td>0.238767</td>\n",
       "    </tr>\n",
       "    <tr>\n",
       "      <th>11</th>\n",
       "      <td>2018-12-01</td>\n",
       "      <td>0.749823</td>\n",
       "      <td>0.704109</td>\n",
       "      <td>0.0457145</td>\n",
       "    </tr>\n",
       "  </tbody>\n",
       "</table>\n",
       "</div>"
      ],
      "text/plain": [
       "         Date      Rand1      Rand2       C2-C3\n",
       "0  2018-01-01   0.242383   0.758472   -0.516089\n",
       "1  2018-02-01    0.37503   0.119544    0.255486\n",
       "2  2018-03-01   0.137591   0.577821    -0.44023\n",
       "3  2018-04-01    0.10783   0.599313   -0.491483\n",
       "4  2018-05-01   0.697438    0.55242    0.145018\n",
       "5  2018-06-01   0.535332   0.652636   -0.117303\n",
       "6  2018-07-01  0.0621536  0.0588685  0.00328505\n",
       "7  2018-08-01   0.720842   0.987935   -0.267093\n",
       "8  2018-09-01   0.830839   0.256938    0.573902\n",
       "9  2018-10-01   0.396111   0.351433   0.0446781\n",
       "10 2018-11-01   0.926572   0.687805    0.238767\n",
       "11 2018-12-01   0.749823   0.704109   0.0457145"
      ]
     },
     "execution_count": 13,
     "metadata": {},
     "output_type": "execute_result"
    }
   ],
   "source": [
    "df2018"
   ]
  },
  {
   "cell_type": "code",
   "execution_count": 14,
   "metadata": {
    "colab": {},
    "colab_type": "code",
    "id": "GVJSuOL4eci8"
   },
   "outputs": [],
   "source": [
    "df2018_1 = pd.DataFrame(df.loc[pd.DatetimeIndex(df['Date']).year.values == 2018].values, columns = ['Date', 'Rand1', 'Rand2', 'C2-C3'])"
   ]
  },
  {
   "cell_type": "code",
   "execution_count": 15,
   "metadata": {
    "colab": {
     "base_uri": "https://localhost:8080/",
     "height": 421
    },
    "colab_type": "code",
    "id": "9CUp2Bm6hkpP",
    "outputId": "837e7ab8-7d2f-44d4-fe68-0fb51888090f"
   },
   "outputs": [
    {
     "data": {
      "text/html": [
       "<div>\n",
       "<style scoped>\n",
       "    .dataframe tbody tr th:only-of-type {\n",
       "        vertical-align: middle;\n",
       "    }\n",
       "\n",
       "    .dataframe tbody tr th {\n",
       "        vertical-align: top;\n",
       "    }\n",
       "\n",
       "    .dataframe thead th {\n",
       "        text-align: right;\n",
       "    }\n",
       "</style>\n",
       "<table border=\"1\" class=\"dataframe\">\n",
       "  <thead>\n",
       "    <tr style=\"text-align: right;\">\n",
       "      <th></th>\n",
       "      <th>Date</th>\n",
       "      <th>Rand1</th>\n",
       "      <th>Rand2</th>\n",
       "      <th>C2-C3</th>\n",
       "    </tr>\n",
       "  </thead>\n",
       "  <tbody>\n",
       "    <tr>\n",
       "      <th>0</th>\n",
       "      <td>2018-01-01</td>\n",
       "      <td>0.242383</td>\n",
       "      <td>0.758472</td>\n",
       "      <td>-0.516089</td>\n",
       "    </tr>\n",
       "    <tr>\n",
       "      <th>1</th>\n",
       "      <td>2018-02-01</td>\n",
       "      <td>0.37503</td>\n",
       "      <td>0.119544</td>\n",
       "      <td>0.255486</td>\n",
       "    </tr>\n",
       "    <tr>\n",
       "      <th>2</th>\n",
       "      <td>2018-03-01</td>\n",
       "      <td>0.137591</td>\n",
       "      <td>0.577821</td>\n",
       "      <td>-0.44023</td>\n",
       "    </tr>\n",
       "    <tr>\n",
       "      <th>3</th>\n",
       "      <td>2018-04-01</td>\n",
       "      <td>0.10783</td>\n",
       "      <td>0.599313</td>\n",
       "      <td>-0.491483</td>\n",
       "    </tr>\n",
       "    <tr>\n",
       "      <th>4</th>\n",
       "      <td>2018-05-01</td>\n",
       "      <td>0.697438</td>\n",
       "      <td>0.55242</td>\n",
       "      <td>0.145018</td>\n",
       "    </tr>\n",
       "    <tr>\n",
       "      <th>5</th>\n",
       "      <td>2018-06-01</td>\n",
       "      <td>0.535332</td>\n",
       "      <td>0.652636</td>\n",
       "      <td>-0.117303</td>\n",
       "    </tr>\n",
       "    <tr>\n",
       "      <th>6</th>\n",
       "      <td>2018-07-01</td>\n",
       "      <td>0.0621536</td>\n",
       "      <td>0.0588685</td>\n",
       "      <td>0.00328505</td>\n",
       "    </tr>\n",
       "    <tr>\n",
       "      <th>7</th>\n",
       "      <td>2018-08-01</td>\n",
       "      <td>0.720842</td>\n",
       "      <td>0.987935</td>\n",
       "      <td>-0.267093</td>\n",
       "    </tr>\n",
       "    <tr>\n",
       "      <th>8</th>\n",
       "      <td>2018-09-01</td>\n",
       "      <td>0.830839</td>\n",
       "      <td>0.256938</td>\n",
       "      <td>0.573902</td>\n",
       "    </tr>\n",
       "    <tr>\n",
       "      <th>9</th>\n",
       "      <td>2018-10-01</td>\n",
       "      <td>0.396111</td>\n",
       "      <td>0.351433</td>\n",
       "      <td>0.0446781</td>\n",
       "    </tr>\n",
       "    <tr>\n",
       "      <th>10</th>\n",
       "      <td>2018-11-01</td>\n",
       "      <td>0.926572</td>\n",
       "      <td>0.687805</td>\n",
       "      <td>0.238767</td>\n",
       "    </tr>\n",
       "    <tr>\n",
       "      <th>11</th>\n",
       "      <td>2018-12-01</td>\n",
       "      <td>0.749823</td>\n",
       "      <td>0.704109</td>\n",
       "      <td>0.0457145</td>\n",
       "    </tr>\n",
       "  </tbody>\n",
       "</table>\n",
       "</div>"
      ],
      "text/plain": [
       "         Date      Rand1      Rand2       C2-C3\n",
       "0  2018-01-01   0.242383   0.758472   -0.516089\n",
       "1  2018-02-01    0.37503   0.119544    0.255486\n",
       "2  2018-03-01   0.137591   0.577821    -0.44023\n",
       "3  2018-04-01    0.10783   0.599313   -0.491483\n",
       "4  2018-05-01   0.697438    0.55242    0.145018\n",
       "5  2018-06-01   0.535332   0.652636   -0.117303\n",
       "6  2018-07-01  0.0621536  0.0588685  0.00328505\n",
       "7  2018-08-01   0.720842   0.987935   -0.267093\n",
       "8  2018-09-01   0.830839   0.256938    0.573902\n",
       "9  2018-10-01   0.396111   0.351433   0.0446781\n",
       "10 2018-11-01   0.926572   0.687805    0.238767\n",
       "11 2018-12-01   0.749823   0.704109   0.0457145"
      ]
     },
     "execution_count": 15,
     "metadata": {},
     "output_type": "execute_result"
    }
   ],
   "source": [
    "df2018_1"
   ]
  },
  {
   "cell_type": "code",
   "execution_count": 16,
   "metadata": {
    "colab": {
     "base_uri": "https://localhost:8080/",
     "height": 71
    },
    "colab_type": "code",
    "id": "6qW1m-oPhtEd",
    "outputId": "a4efe5ef-5b97-491b-b2b4-582bd3012c02"
   },
   "outputs": [
    {
     "data": {
      "text/plain": [
       "array([2018, 2018, 2018, 2018, 2018, 2018, 2018, 2018, 2018, 2018, 2018,\n",
       "       2018, 2019, 2019, 2019, 2019, 2019, 2019, 2019, 2019, 2019, 2019,\n",
       "       2019, 2019, 2020])"
      ]
     },
     "execution_count": 16,
     "metadata": {},
     "output_type": "execute_result"
    }
   ],
   "source": [
    "pd.DatetimeIndex(df['Date']).year.values"
   ]
  },
  {
   "cell_type": "code",
   "execution_count": 17,
   "metadata": {
    "colab": {},
    "colab_type": "code",
    "id": "CT89TdJRiYte"
   },
   "outputs": [],
   "source": [
    "df2019_1 = pd.DataFrame(df.loc[pd.DatetimeIndex(df['Date']).year.values == 2019].values, columns = ['Date', 'Rand1', 'Rand2', 'C2-C3'])"
   ]
  },
  {
   "cell_type": "code",
   "execution_count": 18,
   "metadata": {
    "colab": {},
    "colab_type": "code",
    "id": "4XCHw5LNizRO"
   },
   "outputs": [],
   "source": [
    "df2020_1 = pd.DataFrame(df.loc[pd.DatetimeIndex(df['Date']).year.values == 2020].values, columns = ['Date', 'Rand1', 'Rand2', 'C2-C3'])"
   ]
  },
  {
   "cell_type": "markdown",
   "metadata": {
    "colab_type": "text",
    "id": "0TNdc2Sfk0mf"
   },
   "source": [
    "# Centigrade to Faranheit"
   ]
  },
  {
   "cell_type": "code",
   "execution_count": 19,
   "metadata": {
    "colab": {},
    "colab_type": "code",
    "id": "26o1eN3Ik7Yy"
   },
   "outputs": [],
   "source": [
    "# Generate n_total = 20 random numbers between 0 and 100\n",
    "n_total = 32\n",
    "temp_c = 100*np.random.random((n_total))\n",
    "temp_f = 1.8*temp_c + 32"
   ]
  },
  {
   "cell_type": "code",
   "execution_count": 20,
   "metadata": {
    "colab": {
     "base_uri": "https://localhost:8080/"
    },
    "colab_type": "code",
    "id": "wz4zLnPLmJIF",
    "outputId": "b826c930-6d76-486d-ab7d-f44b5f4b7953"
   },
   "outputs": [
    {
     "data": {
      "text/plain": [
       "array([49.71832297, 21.19346259, 27.28687339, 77.14472165, 68.67382179,\n",
       "       35.51115948, 43.19030523, 49.97482085, 41.58640366, 45.76253666,\n",
       "       75.85139902,  9.54798192, 39.09328974, 39.43717143, 56.39731689,\n",
       "       47.70271297,  4.06666904, 11.22502694, 48.14349674, 84.97115253,\n",
       "       42.77183911, 19.51311946, 26.87441975, 50.20424007, 68.69325894,\n",
       "       81.19420075, 56.14555532, 59.01457441, 97.0796095 , 51.42747397,\n",
       "       56.3186916 , 99.59655102])"
      ]
     },
     "execution_count": 20,
     "metadata": {},
     "output_type": "execute_result"
    }
   ],
   "source": [
    "temp_c"
   ]
  },
  {
   "cell_type": "code",
   "execution_count": 21,
   "metadata": {
    "colab": {
     "base_uri": "https://localhost:8080/"
    },
    "colab_type": "code",
    "id": "_9tqIi5XmKw9",
    "outputId": "e2a51fd8-4c55-4a9d-80de-998c36bb0fee"
   },
   "outputs": [
    {
     "data": {
      "text/plain": [
       "array([121.49298135,  70.14823266,  81.1163721 , 170.86049897,\n",
       "       155.61287922,  95.92008706, 109.74254942, 121.95467753,\n",
       "       106.85552658, 114.37256599, 168.53251823,  49.18636745,\n",
       "       102.36792153, 102.98690858, 133.51517041, 117.86488335,\n",
       "        39.32000428,  52.20504849, 118.65829413, 184.94807456,\n",
       "       108.9893104 ,  67.12361502,  80.37395556, 122.36763213,\n",
       "       155.6478661 , 178.14956134, 133.06199958, 138.22623394,\n",
       "       206.7432971 , 124.56945315, 133.37364489, 211.27379184])"
      ]
     },
     "execution_count": 21,
     "metadata": {},
     "output_type": "execute_result"
    }
   ],
   "source": [
    "temp_f"
   ]
  },
  {
   "cell_type": "code",
   "execution_count": 24,
   "metadata": {
    "colab": {},
    "colab_type": "code",
    "id": "-X1J-DCGmMZt"
   },
   "outputs": [],
   "source": [
    "import tensorflow as tf\n",
    "import keras\n",
    "from keras import models\n",
    "from keras import layers"
   ]
  },
  {
   "cell_type": "code",
   "execution_count": 31,
   "metadata": {
    "colab": {},
    "colab_type": "code",
    "id": "gYBHa4jHr_Q-"
   },
   "outputs": [],
   "source": [
    "#model = models.Sequential()\n",
    "#model.add(layers.Dense(1, activation='sigmoid',input_shape=(1,)))\n",
    "layer1 = tf.keras.layers.Dense(units=1, input_shape=[1])"
   ]
  },
  {
   "cell_type": "code",
   "execution_count": 32,
   "metadata": {
    "colab": {},
    "colab_type": "code",
    "id": "zUxd5FQgsZsy"
   },
   "outputs": [],
   "source": [
    "from keras import optimizers"
   ]
  },
  {
   "cell_type": "code",
   "execution_count": 43,
   "metadata": {
    "colab": {},
    "colab_type": "code",
    "id": "Oc-kTlgusdzD"
   },
   "outputs": [],
   "source": [
    "#model.compile(optimizer=optimizers.RMSprop(lr=0.01), loss='mse', metrics=['accuracy'])\n",
    "model = tf.keras.Sequential([layer1])\n",
    "model.compile(optimizer=optimizers.Adam(0.01), loss='mse')"
   ]
  },
  {
   "cell_type": "code",
   "execution_count": 44,
   "metadata": {
    "colab": {
     "base_uri": "https://localhost:8080/"
    },
    "colab_type": "code",
    "id": "LvnSfe0QtBfg",
    "outputId": "da063fd2-d6ce-44f8-ec66-335fc72e201b"
   },
   "outputs": [
    {
     "data": {
      "text/plain": [
       "<tensorflow.python.keras.callbacks.History at 0x7fed207cf810>"
      ]
     },
     "execution_count": 44,
     "metadata": {},
     "output_type": "execute_result"
    }
   ],
   "source": [
    "model.fit(temp_c,temp_f,epochs=1000,verbose=False)"
   ]
  },
  {
   "cell_type": "code",
   "execution_count": 45,
   "metadata": {
    "colab": {
     "base_uri": "https://localhost:8080/"
    },
    "colab_type": "code",
    "id": "_1Zx85H8tNWv",
    "outputId": "d74528ff-8add-4ce6-9484-8d5574b9c21e"
   },
   "outputs": [
    {
     "data": {
      "text/plain": [
       "array([[ 31.999996],\n",
       "       [212.      ]], dtype=float32)"
      ]
     },
     "execution_count": 45,
     "metadata": {},
     "output_type": "execute_result"
    }
   ],
   "source": [
    "import array\n",
    "x_test = np.array(array.array('d', [0., 100.]))\n",
    "model.predict(x_test)"
   ]
  },
  {
   "cell_type": "code",
   "execution_count": null,
   "metadata": {},
   "outputs": [],
   "source": []
  }
 ],
 "metadata": {
  "colab": {
   "collapsed_sections": [],
   "name": "lP1_BB",
   "provenance": []
  },
  "kernelspec": {
   "display_name": "Python 3",
   "language": "python",
   "name": "python3"
  },
  "language_info": {
   "codemirror_mode": {
    "name": "ipython",
    "version": 3
   },
   "file_extension": ".py",
   "mimetype": "text/x-python",
   "name": "python",
   "nbconvert_exporter": "python",
   "pygments_lexer": "ipython3",
   "version": "3.7.6"
  }
 },
 "nbformat": 4,
 "nbformat_minor": 1
}
